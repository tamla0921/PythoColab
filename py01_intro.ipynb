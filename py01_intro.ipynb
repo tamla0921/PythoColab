{
  "nbformat": 4,
  "nbformat_minor": 0,
  "metadata": {
    "colab": {
      "provenance": [],
      "toc_visible": true,
      "authorship_tag": "ABX9TyPyLEF+YkAxJSFj8153oOpk",
      "include_colab_link": true
    },
    "kernelspec": {
      "name": "python3",
      "display_name": "Python 3"
    },
    "language_info": {
      "name": "python"
    }
  },
  "cells": [
    {
      "cell_type": "markdown",
      "metadata": {
        "id": "view-in-github",
        "colab_type": "text"
      },
      "source": [
        "<a href=\"https://colab.research.google.com/github/tamla0921/PythonColab/blob/main/py01_intro.ipynb\" target=\"_parent\"><img src=\"https://colab.research.google.com/assets/colab-badge.svg\" alt=\"Open In Colab\"/></a>"
      ]
    },
    {
      "cell_type": "markdown",
      "source": [
        "# Python 버전 확인"
      ],
      "metadata": {
        "id": "fGLktNwtdiu7"
      }
    },
    {
      "cell_type": "code",
      "execution_count": null,
      "metadata": {
        "colab": {
          "base_uri": "https://localhost:8080/"
        },
        "id": "_ck1-zQkZ8Hh",
        "outputId": "60e26f45-0d35-47bc-b694-11a3a591ec7f"
      },
      "outputs": [
        {
          "output_type": "stream",
          "name": "stdout",
          "text": [
            "Python 3.8.16\n"
          ]
        }
      ],
      "source": [
        "!python --version"
      ]
    },
    {
      "cell_type": "markdown",
      "source": [
        "코드셀에서 명령창(command prompt)에서 실행하는 문장을 작성하고 실행할 때는 !로 시작.(파이썬 문장이 아님)\n",
        "*   목록 리스트\n",
        "1.   ㅇㅇ\n",
        "2.   ㅇㅇ\n",
        "\n"
      ],
      "metadata": {
        "id": "qsOMJ6BCjHpl"
      }
    },
    {
      "cell_type": "markdown",
      "source": [],
      "metadata": {
        "id": "b1W3RFSEpefZ"
      }
    },
    {
      "cell_type": "markdown",
      "source": [
        "# `print` 함수"
      ],
      "metadata": {
        "id": "kUDJAzAdjpt6"
      }
    },
    {
      "cell_type": "markdown",
      "source": [],
      "metadata": {
        "id": "khWQ2MxWpeJR"
      }
    },
    {
      "cell_type": "markdown",
      "source": [
        "자바는 클래스 -- 파이썬은 한 줄 한 줄 실행..\n",
        "\n",
        "*   (Java) System.out.println();\n",
        "*   (Python) print()"
      ],
      "metadata": {
        "id": "uM65BRa_pLyq"
      }
    },
    {
      "cell_type": "code",
      "source": [
        "print('안녕, 파이썬!')"
      ],
      "metadata": {
        "colab": {
          "base_uri": "https://localhost:8080/"
        },
        "id": "v9jEmVxli8N7",
        "outputId": "b2bb3d0e-ee9c-4e8a-ee9a-7386c2ad1957"
      },
      "execution_count": null,
      "outputs": [
        {
          "output_type": "stream",
          "name": "stdout",
          "text": [
            "안녕, 파이썬!\n"
          ]
        }
      ]
    },
    {
      "cell_type": "markdown",
      "source": [
        "`print()` 함수에 여러개의 argument를 전달하면, argument들을 공백으로 연결해서 한 줄에 출력함."
      ],
      "metadata": {
        "id": "WGGLUqutm4Fy"
      }
    },
    {
      "cell_type": "code",
      "source": [
        "print('hello', 'python', '만나서', '반가워')"
      ],
      "metadata": {
        "colab": {
          "base_uri": "https://localhost:8080/"
        },
        "id": "g7wbfF1Ll_eH",
        "outputId": "509ac266-f331-4093-c1e1-6685778d62d1"
      },
      "execution_count": null,
      "outputs": [
        {
          "output_type": "stream",
          "name": "stdout",
          "text": [
            "hello python 만나서 반가워\n"
          ]
        }
      ]
    },
    {
      "cell_type": "markdown",
      "source": [
        "* (Java) System.out.println(\"문자열\" + \"합치기\");\n",
        "* (Java) System.out.println(1+2);\n",
        "* (J) System.out.println(\"1 + 2 = \" + (1 + 2));\n"
      ],
      "metadata": {
        "id": "ScrDZzkIpoGB"
      }
    },
    {
      "cell_type": "code",
      "source": [
        "print('hello', 'python', sep='::')\n",
        "print(1 + 2)\n",
        "print(\"1 + 2 = \", 1+2)"
      ],
      "metadata": {
        "colab": {
          "base_uri": "https://localhost:8080/"
        },
        "id": "lJK1DVo7mF-g",
        "outputId": "e17d1d70-e679-4641-93ac-9f38ed9f953b"
      },
      "execution_count": null,
      "outputs": [
        {
          "output_type": "stream",
          "name": "stdout",
          "text": [
            "hello::python\n",
            "3\n",
            "1 + 2 =  3\n"
          ]
        }
      ]
    },
    {
      "cell_type": "markdown",
      "source": [
        "## `format()` 메서드를 사용한 출력"
      ],
      "metadata": {
        "id": "HQXao5Fgn5Rp"
      }
    },
    {
      "cell_type": "code",
      "source": [
        "print('{} + {} = {}'.format(1, 2, 3))"
      ],
      "metadata": {
        "colab": {
          "base_uri": "https://localhost:8080/"
        },
        "id": "5qX2-p2LoCpr",
        "outputId": "5fd683aa-d63a-4439-a171-759ceb082c60"
      },
      "execution_count": null,
      "outputs": [
        {
          "output_type": "stream",
          "name": "stdout",
          "text": [
            "1 + 2 = 3\n"
          ]
        }
      ]
    },
    {
      "cell_type": "code",
      "source": [
        "print('{y} + {x} = {z}'.format(x=1, y=2, z=3))"
      ],
      "metadata": {
        "colab": {
          "base_uri": "https://localhost:8080/"
        },
        "id": "LBEmelB1o7uE",
        "outputId": "bd292280-a80b-4de9-977e-9e737bcd25b9"
      },
      "execution_count": null,
      "outputs": [
        {
          "output_type": "stream",
          "name": "stdout",
          "text": [
            "2 + 1 = 3\n"
          ]
        }
      ]
    },
    {
      "cell_type": "markdown",
      "source": [
        "## formatted String을 사용한 출력\n",
        "\n",
        "Python 3.6 이상 버전에서만 사용 가능."
      ],
      "metadata": {
        "id": "s9iwt0f2pgSi"
      }
    },
    {
      "cell_type": "code",
      "source": [
        "a = 10\n",
        "b = 20"
      ],
      "metadata": {
        "id": "LY7uq1ImqCpa"
      },
      "execution_count": null,
      "outputs": []
    },
    {
      "cell_type": "code",
      "source": [
        "print(f'{a} + {b} = {a + b}')"
      ],
      "metadata": {
        "colab": {
          "base_uri": "https://localhost:8080/"
        },
        "id": "0ZLvEssXqId4",
        "outputId": "26eae2be-b6ed-41de-9ebc-37aaf292e482"
      },
      "execution_count": null,
      "outputs": [
        {
          "output_type": "stream",
          "name": "stdout",
          "text": [
            "10 + 20 = 30\n"
          ]
        }
      ]
    },
    {
      "cell_type": "markdown",
      "source": [
        "#  코드셀 실행 방법\n",
        "\n",
        "* 코드셀 왼쪽의 실행 버튼 클릭\n",
        "* Ctrl + Enter: 현재 포커스가 있는 셀을 실행.\n",
        "* Shift + Enter: 현재 포커스가 있는 셀을 실행하고, 그 다음 셀로 포커스 이동.\n",
        "  * 현재 셀 아래에 다음 셀이 없는 경우에는 새로운 코드 셀을 생성.\n",
        "* 런타임 메뉴"
      ],
      "metadata": {
        "id": "_StWmM7Zu8r4"
      }
    }
  ]
}