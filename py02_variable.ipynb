{
  "nbformat": 4,
  "nbformat_minor": 0,
  "metadata": {
    "colab": {
      "provenance": [],
      "authorship_tag": "ABX9TyP/TwkH3p2Nlx2E0YlZnyGY",
      "include_colab_link": true
    },
    "kernelspec": {
      "name": "python3",
      "display_name": "Python 3"
    },
    "language_info": {
      "name": "python"
    }
  },
  "cells": [
    {
      "cell_type": "markdown",
      "metadata": {
        "id": "view-in-github",
        "colab_type": "text"
      },
      "source": [
        "<a href=\"https://colab.research.google.com/github/tamla0921/PythonColab/blob/main/py02_variable.ipynb\" target=\"_parent\"><img src=\"https://colab.research.google.com/assets/colab-badge.svg\" alt=\"Open In Colab\"/></a>"
      ]
    },
    {
      "cell_type": "markdown",
      "source": [
        "# 파이썬 자료 타입\n",
        "\n",
        "* 숫자 타입\n",
        "  * `int`: 정수\n",
        "  * `float`: 실수\n",
        "\n",
        "* 문자열 타입\n",
        "  * `str`\n",
        "\n",
        "* 논리 타입\n",
        "  * `bool`: True 또는 False\n",
        "\n",
        "* 객체 타입\n",
        "\n",
        "파이썬은 변수를 선언할 때 자료 타입을 명시하지 않음!\n",
        "변수의 자료 타입은 코드가 실행될 때 결정됨."
      ],
      "metadata": {
        "id": "IwYK5sroyhw5"
      }
    },
    {
      "cell_type": "code",
      "execution_count": null,
      "metadata": {
        "id": "H48xmHbkxfD5",
        "colab": {
          "base_uri": "https://localhost:8080/"
        },
        "outputId": "b038b2b2-0e6e-474b-9447-3547a25c2e92"
      },
      "outputs": [
        {
          "output_type": "stream",
          "name": "stdout",
          "text": [
            "123\n",
            "<class 'int'>\n"
          ]
        }
      ],
      "source": [
        "# 주석(comment)\n",
        "# 변수_이름 = 값\n",
        "n = 123\n",
        "print(n)\n",
        "print(type(n)) # type(arg): arg의 자료 타입을 리턴."
      ]
    },
    {
      "cell_type": "code",
      "source": [
        "n = 3.14\n",
        "print(type(n))"
      ],
      "metadata": {
        "colab": {
          "base_uri": "https://localhost:8080/"
        },
        "id": "GxpeSrEo0_s4",
        "outputId": "e0e0b164-2adf-43d3-d98e-6fba95c53c88"
      },
      "execution_count": null,
      "outputs": [
        {
          "output_type": "stream",
          "name": "stdout",
          "text": [
            "<class 'float'>\n"
          ]
        }
      ]
    },
    {
      "cell_type": "markdown",
      "source": [
        "식(expression): 값, 변수, 계산식(연산), 함수 호출.\n",
        "\n",
        "문장(statement): 코드의 최소 실행 단위.\n",
        "\n",
        "ipynb(IPython notebook) 코드셀에서 가장 마지막 줄에 있는 문장이 식(expression)이면, 그 식을 평가한 결과를 콘솔 창에 출력"
      ],
      "metadata": {
        "id": "knjHd3pL1yWQ"
      }
    },
    {
      "cell_type": "code",
      "source": [
        "x = 1\n",
        "y = 2\n",
        "# print(x + y)\n",
        "x + y"
      ],
      "metadata": {
        "colab": {
          "base_uri": "https://localhost:8080/"
        },
        "id": "rWKE99bZ26LQ",
        "outputId": "10b45759-e87c-4b68-f978-de3124b9abd0"
      },
      "execution_count": null,
      "outputs": [
        {
          "output_type": "execute_result",
          "data": {
            "text/plain": [
              "3"
            ]
          },
          "metadata": {},
          "execution_count": 48
        }
      ]
    },
    {
      "cell_type": "markdown",
      "source": [
        "## 명시적 타입 변환\n",
        "\n",
        "* `int(값)`: 값을 정수 타입으로 변환해서 리턴.\n",
        "* `float(값)`: 값을 실수 타입으로 변환해서 리턴.\n",
        "* `str(값)`: 값을 문자열로 변환해서 리턴."
      ],
      "metadata": {
        "id": "31vAoSK-8XYf"
      }
    },
    {
      "cell_type": "code",
      "source": [
        "# colab 노트북의 콘솔에서 입력 받는 방법:\n",
        "n = input('정수 입력>>>')"
      ],
      "metadata": {
        "colab": {
          "base_uri": "https://localhost:8080/"
        },
        "id": "1zfzVBk58pRe",
        "outputId": "af31c2d1-952f-400f-dfab-aca306798d2a"
      },
      "execution_count": null,
      "outputs": [
        {
          "name": "stdout",
          "output_type": "stream",
          "text": [
            "정수 입력>>>10\n"
          ]
        }
      ]
    },
    {
      "cell_type": "code",
      "source": [
        "type(n)"
      ],
      "metadata": {
        "colab": {
          "base_uri": "https://localhost:8080/"
        },
        "id": "eABb-7TY9QYG",
        "outputId": "d2a7c32c-64e8-4c9f-e93b-110e69d2ca5f"
      },
      "execution_count": null,
      "outputs": [
        {
          "output_type": "execute_result",
          "data": {
            "text/plain": [
              "str"
            ]
          },
          "metadata": {},
          "execution_count": 50
        }
      ]
    },
    {
      "cell_type": "code",
      "source": [
        "n = int(n) # 변수 n의 타입을 int 타입으로 변환한 후 n에 저장.\n",
        "# 위 줄은 문장이므로 ipynb에서 자동으로 출력 X."
      ],
      "metadata": {
        "id": "1t-hcqXR9t93"
      },
      "execution_count": null,
      "outputs": []
    },
    {
      "cell_type": "markdown",
      "source": [
        "# 산술 연산자\n",
        "\n",
        "종류: `+, -, *, /, //, %, **`\n",
        "\n",
        "* `/`: 소수점까지 계산하는 나눗셈.\n",
        "* `//`: 몫\n",
        "* `%`: 나머지\n",
        "* `**`: 거듭 제곱"
      ],
      "metadata": {
        "id": "PLmW_pwQ-elW"
      }
    },
    {
      "cell_type": "code",
      "source": [
        "10 / 3"
      ],
      "metadata": {
        "colab": {
          "base_uri": "https://localhost:8080/"
        },
        "id": "4NvsOEhC_fHX",
        "outputId": "f555f221-8f90-49be-9cb5-8d44c28ffa34"
      },
      "execution_count": null,
      "outputs": [
        {
          "output_type": "execute_result",
          "data": {
            "text/plain": [
              "3.3333333333333335"
            ]
          },
          "metadata": {},
          "execution_count": 52
        }
      ]
    },
    {
      "cell_type": "code",
      "source": [
        "10 // 3"
      ],
      "metadata": {
        "colab": {
          "base_uri": "https://localhost:8080/"
        },
        "id": "0UFO-Wwq_s0u",
        "outputId": "74f6412e-dce7-4ed9-b3a9-fdfa8ab1888f"
      },
      "execution_count": null,
      "outputs": [
        {
          "output_type": "execute_result",
          "data": {
            "text/plain": [
              "3"
            ]
          },
          "metadata": {},
          "execution_count": 53
        }
      ]
    },
    {
      "cell_type": "code",
      "source": [
        "10 % 3"
      ],
      "metadata": {
        "colab": {
          "base_uri": "https://localhost:8080/"
        },
        "id": "se9V_LmD_t4G",
        "outputId": "525d3b8f-f317-40dd-b5d7-8ca6aebee56f"
      },
      "execution_count": null,
      "outputs": [
        {
          "output_type": "execute_result",
          "data": {
            "text/plain": [
              "1"
            ]
          },
          "metadata": {},
          "execution_count": 54
        }
      ]
    },
    {
      "cell_type": "code",
      "source": [
        "10 ** 3 # 10 * 10 * 10"
      ],
      "metadata": {
        "colab": {
          "base_uri": "https://localhost:8080/"
        },
        "id": "87pGw4Ix_wI2",
        "outputId": "4d53c6ad-c1af-4beb-bf11-6b157f33d320"
      },
      "execution_count": null,
      "outputs": [
        {
          "output_type": "execute_result",
          "data": {
            "text/plain": [
              "1000"
            ]
          },
          "metadata": {},
          "execution_count": 55
        }
      ]
    },
    {
      "cell_type": "code",
      "source": [
        "10 ** -1"
      ],
      "metadata": {
        "colab": {
          "base_uri": "https://localhost:8080/"
        },
        "id": "YPU2BU9F_-ZO",
        "outputId": "f66e5a9a-5046-4b57-ddc7-856c6d415165"
      },
      "execution_count": null,
      "outputs": [
        {
          "output_type": "execute_result",
          "data": {
            "text/plain": [
              "0.1"
            ]
          },
          "metadata": {},
          "execution_count": 56
        }
      ]
    },
    {
      "cell_type": "markdown",
      "source": [
        "## 문자열(str) 타입에서 사용할 수 있는 산술 연산자.\n",
        "\n",
        "* `+`: concatenate. 문자열 이어 붙이기\n",
        "* `*`: replicate. 문자열 복제"
      ],
      "metadata": {
        "id": "1pM2jn5fAK0H"
      }
    },
    {
      "cell_type": "code",
      "source": [
        "'Hello' + 'Python'"
      ],
      "metadata": {
        "colab": {
          "base_uri": "https://localhost:8080/",
          "height": 35
        },
        "id": "BjCBxRUrArSW",
        "outputId": "93315217-1928-4640-b4c2-31be9783626f"
      },
      "execution_count": null,
      "outputs": [
        {
          "output_type": "execute_result",
          "data": {
            "text/plain": [
              "'HelloPython'"
            ],
            "application/vnd.google.colaboratory.intrinsic+json": {
              "type": "string"
            }
          },
          "metadata": {},
          "execution_count": 57
        }
      ]
    },
    {
      "cell_type": "code",
      "source": [
        "'Hello' * 5"
      ],
      "metadata": {
        "colab": {
          "base_uri": "https://localhost:8080/",
          "height": 35
        },
        "id": "nj0a6HrrAu6H",
        "outputId": "5a869abb-f741-4bea-ae65-047c377246c9"
      },
      "execution_count": null,
      "outputs": [
        {
          "output_type": "execute_result",
          "data": {
            "text/plain": [
              "'HelloHelloHelloHelloHello'"
            ],
            "application/vnd.google.colaboratory.intrinsic+json": {
              "type": "string"
            }
          },
          "metadata": {},
          "execution_count": 58
        }
      ]
    },
    {
      "cell_type": "markdown",
      "source": [
        "# 비교 연산자와 논리 연산자\n",
        "\n",
        "* 비교 연산자: `==, !=, >, >=, <, <=`\n",
        "* 논리 연산자: `and, or, not`"
      ],
      "metadata": {
        "id": "57gLPux1BJg-"
      }
    },
    {
      "cell_type": "code",
      "source": [
        "x = 100"
      ],
      "metadata": {
        "id": "ezPMkdEmBqDI"
      },
      "execution_count": null,
      "outputs": []
    },
    {
      "cell_type": "code",
      "source": [
        "(x > 50) and (x < 150)"
      ],
      "metadata": {
        "colab": {
          "base_uri": "https://localhost:8080/"
        },
        "id": "VT95uCyLBr0n",
        "outputId": "7afc653c-a416-4e38-e4b8-4f813eaaf6b3"
      },
      "execution_count": null,
      "outputs": [
        {
          "output_type": "execute_result",
          "data": {
            "text/plain": [
              "True"
            ]
          },
          "metadata": {},
          "execution_count": 60
        }
      ]
    },
    {
      "cell_type": "code",
      "source": [
        "50 < x < 150"
      ],
      "metadata": {
        "colab": {
          "base_uri": "https://localhost:8080/"
        },
        "id": "lTvC6AewCOJO",
        "outputId": "e731df62-a9b0-4d54-d6f5-82734f619f1b"
      },
      "execution_count": null,
      "outputs": [
        {
          "output_type": "execute_result",
          "data": {
            "text/plain": [
              "True"
            ]
          },
          "metadata": {},
          "execution_count": 61
        }
      ]
    },
    {
      "cell_type": "markdown",
      "source": [
        "# Ex 1. 조건문\n",
        "\n",
        "* 3개의 정수를 입력받고 각각 변수에 저장.\n",
        "* 3개 정수의 평균을 소수점까지 계산하고 출력.\n",
        "* 평균이 90 이상이면 A, 80 이상이면 B, 70 이상이면 C, 70 미만이면 F를 출력\n",
        "\n",
        "\n",
        "\n"
      ],
      "metadata": {
        "id": "WwpuTWgZCuk3"
      }
    },
    {
      "cell_type": "code",
      "source": [
        "a = int(input('첫 번째 점수를 입력하세요: '))\n",
        "b = int(input('두 번째 점수를 입력하세요: '))\n",
        "c = int(input('세 번째 점수를 입력하세요: '))\n",
        "\n",
        "avg = (a + b + c) / 3\n",
        "\n",
        "print('시험의 평균은...', avg, '점 입니다.')\n",
        "print('시험의 평균은... {}점 입니다.'.format(avg))\n",
        "print(f'시험의 평균은... {avg}점 입니다.')\n",
        "\n",
        "if (avg >= 90):\n",
        "    print('학점은 A!')\n",
        "elif (avg >= 80):\n",
        "    print('학점은 B!')\n",
        "elif (avg >= 70):\n",
        "    print('학점은 C!')\n",
        "else:\n",
        "  print('학점은 F...')\n"
      ],
      "metadata": {
        "colab": {
          "base_uri": "https://localhost:8080/"
        },
        "id": "M-ZW5dbFDaVe",
        "outputId": "f3f8ac2a-729f-4a29-fc95-a3c01b015fee"
      },
      "execution_count": null,
      "outputs": [
        {
          "output_type": "stream",
          "name": "stdout",
          "text": [
            "첫 번째 점수를 입력하세요: 100\n",
            "두 번째 점수를 입력하세요: 100\n",
            "세 번째 점수를 입력하세요: 80\n",
            "시험의 평균은... 93.33333333333333 점 입니다.\n",
            "시험의 평균은... 93.33333333333333점 입니다.\n",
            "시험의 평균운... 93.33333333333333점 입니다.\n",
            "학점은 A!\n"
          ]
        }
      ]
    },
    {
      "cell_type": "markdown",
      "source": [
        "Ex 2. 반복문\n",
        "\n",
        "* 구구단 12단(12x1, ... , 12x12)을 출력"
      ],
      "metadata": {
        "id": "sl_KEozaDfI3"
      }
    },
    {
      "cell_type": "code",
      "source": [
        "for i in range(1, 13):\n",
        "  print('12 * {} ='.format(i), 12 * i)"
      ],
      "metadata": {
        "colab": {
          "base_uri": "https://localhost:8080/"
        },
        "id": "TgEQsi_3Fa3F",
        "outputId": "bb026edc-f69d-4d9f-d639-a14f2c391832"
      },
      "execution_count": null,
      "outputs": [
        {
          "output_type": "stream",
          "name": "stdout",
          "text": [
            "12 * 1 = 12\n",
            "12 * 2 = 24\n",
            "12 * 3 = 36\n",
            "12 * 4 = 48\n",
            "12 * 5 = 60\n",
            "12 * 6 = 72\n",
            "12 * 7 = 84\n",
            "12 * 8 = 96\n",
            "12 * 9 = 108\n",
            "12 * 10 = 120\n",
            "12 * 11 = 132\n",
            "12 * 12 = 144\n"
          ]
        }
      ]
    },
    {
      "cell_type": "code",
      "source": [
        "for i in range(1, 13):\n",
        "  print(f'12 * {i} = {12 * i}')"
      ],
      "metadata": {
        "colab": {
          "base_uri": "https://localhost:8080/"
        },
        "id": "CkkPA3USGKgN",
        "outputId": "8d08b5af-16c9-472c-d29e-b59e5a506aa0"
      },
      "execution_count": null,
      "outputs": [
        {
          "output_type": "stream",
          "name": "stdout",
          "text": [
            "12 * 1 = 12\n",
            "12 * 2 = 24\n",
            "12 * 3 = 36\n",
            "12 * 4 = 48\n",
            "12 * 5 = 60\n",
            "12 * 6 = 72\n",
            "12 * 7 = 84\n",
            "12 * 8 = 96\n",
            "12 * 9 = 108\n",
            "12 * 10 = 120\n",
            "12 * 11 = 132\n",
            "12 * 12 = 144\n"
          ]
        }
      ]
    },
    {
      "cell_type": "code",
      "source": [
        "for i in range(1, 13):\n",
        "  print('12 X', i, '=', 12 * i)"
      ],
      "metadata": {
        "colab": {
          "base_uri": "https://localhost:8080/"
        },
        "id": "6PZvn59hIyQt",
        "outputId": "5dd9c812-6561-4def-ece5-8bc4b247ba7f"
      },
      "execution_count": null,
      "outputs": [
        {
          "output_type": "stream",
          "name": "stdout",
          "text": [
            "12 X 1 = 12\n",
            "12 X 2 = 24\n",
            "12 X 3 = 36\n",
            "12 X 4 = 48\n",
            "12 X 5 = 60\n",
            "12 X 6 = 72\n",
            "12 X 7 = 84\n",
            "12 X 8 = 96\n",
            "12 X 9 = 108\n",
            "12 X 10 = 120\n",
            "12 X 11 = 132\n",
            "12 X 12 = 144\n"
          ]
        }
      ]
    }
  ]
}