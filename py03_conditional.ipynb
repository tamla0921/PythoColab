{
  "nbformat": 4,
  "nbformat_minor": 0,
  "metadata": {
    "colab": {
      "provenance": [],
      "authorship_tag": "ABX9TyOQftX1jOvu/YVxjGVwexfq"
    },
    "kernelspec": {
      "name": "python3",
      "display_name": "Python 3"
    },
    "language_info": {
      "name": "python"
    }
  },
  "cells": [
    {
      "cell_type": "markdown",
      "source": [
        "# elsr가 없는 조건문\n",
        "\n",
        "```\n",
        "if 조건식:\n",
        "  조건식이 참일 때 실행할 코드 (블록)\n",
        "```\n",
        "\n",
        "* `if 조건식` 뒤에는 반드시 콜론(:)을 사용해야 함.\n",
        "* `if 블록(조건식이 참일 때 실행하는 문장들)은 반드시 __같은 크기로__ 들여쓰기를(indentation)를 해야 함."
      ],
      "metadata": {
        "id": "5Cb7ZBuw55KM"
      }
    },
    {
      "cell_type": "code",
      "execution_count": null,
      "metadata": {
        "id": "EVv9EZHO5lQ7"
      },
      "outputs": [],
      "source": [
        "n=100"
      ]
    },
    {
      "cell_type": "code",
      "source": [
        "if n > 0:\n",
        "    print('양수')\n",
        "    print('if 블록 끝')\n",
        "\n",
        "print('if 바깥')"
      ],
      "metadata": {
        "colab": {
          "base_uri": "https://localhost:8080/"
        },
        "id": "KDZsEnl673Ik",
        "outputId": "2d17dd67-af99-4e7c-fac5-6e48c2a7e06f"
      },
      "execution_count": null,
      "outputs": [
        {
          "output_type": "stream",
          "name": "stdout",
          "text": [
            "양수\n",
            "if블록 끝\n",
            "if 바깥\n"
          ]
        }
      ]
    },
    {
      "cell_type": "markdown",
      "source": [
        "# else가 있는 조건문\n",
        "\n",
        "```\n",
        "if 조건식:\n",
        "  조건식이 참일 때 실행할 코드 블록\n",
        "else:\n",
        " 조건식이 거짓일 때 실행할 코드 블록\n",
        "```"
      ],
      "metadata": {
        "id": "tmygvkkt9jsL"
      }
    },
    {
      "cell_type": "code",
      "source": [
        "n = int(input('숫자 하나 입력하기: '))\n",
        "\n",
        "# 자바에서는 식으로 표현해서 boolean(true, false)값만 저장해야 함!\n",
        "if n% 2: # 정수 n을 나눈 2로 나눈 나머지가 있으면(나머지가 0이 아니면)\n",
        "  print('홀수') # (1)\n",
        "else:\n",
        "  print('짝수') # (2)"
      ],
      "metadata": {
        "colab": {
          "base_uri": "https://localhost:8080/"
        },
        "id": "acBUSX3z9rqL",
        "outputId": "1cccbf7a-3305-42ad-e17f-4bc3a6e3d4fa"
      },
      "execution_count": null,
      "outputs": [
        {
          "output_type": "stream",
          "name": "stdout",
          "text": [
            "숫자 하나 입력하기: 60\n",
            "짝수\n"
          ]
        }
      ]
    },
    {
      "cell_type": "markdown",
      "source": [
        "Python에서 참(True)으로 취급하는 것들:\n",
        "\n",
        "* 0이 아닌 숫자들\n",
        "* 1개 이상의 글자를 가지고 있는 문자열\n",
        "* 1개 이상의 원소를 가지고 있는 리스트\n",
        "* ..."
      ],
      "metadata": {
        "id": "OnGSZ-U2_LFc"
      }
    },
    {
      "cell_type": "markdown",
      "source": [
        "# chained conditional\n",
        "\n",
        "```\n",
        "if 조건식1:\n",
        "  조건식1이 참일 때 실행할 코드 블록\n",
        "elif 조건식2:\n",
        "  조건식2가 참일 때 실행할 코드 블록\n",
        "  ...\n",
        "else:\n",
        "  위의 모든 조건식들을 만족하지 못할 때 실행할 코드 블록\n",
        "```"
      ],
      "metadata": {
        "id": "Wz0KBvLK_zj7"
      }
    },
    {
      "cell_type": "code",
      "source": [
        "x = int(input('정수 입력>>> '))\n",
        "y = int(input('정수 입력>>> '))\n",
        "z = int(input('정수 입력>>> '))\n",
        "\n",
        "avg = (x + y + z) / 3;\n",
        "print(f'평균 = {avg}')\n",
        "\n",
        "if avg >= 90:\n",
        "  print('A')\n",
        "elif avg >= 80:\n",
        "  print('B')\n",
        "elif avg >= 70:\n",
        "  print('C')\n",
        "else:\n",
        "  print('F')"
      ],
      "metadata": {
        "id": "o6EME9yHAW40",
        "colab": {
          "base_uri": "https://localhost:8080/"
        },
        "outputId": "a0b4ff61-0f66-483b-e8f3-2c800785ef43"
      },
      "execution_count": null,
      "outputs": [
        {
          "output_type": "stream",
          "name": "stdout",
          "text": [
            "정수 입력>>> 99\n",
            "정수 입력>>> 98\n",
            "정수 입력>>> 97\n",
            "평균 = 98.0\n",
            "A\n"
          ]
        }
      ]
    }
  ]
}